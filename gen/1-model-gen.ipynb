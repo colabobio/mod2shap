{
 "cells": [
  {
   "cell_type": "code",
   "execution_count": 1,
   "id": "b69355f4-e961-4e0d-af85-611e645313f9",
   "metadata": {},
   "outputs": [
    {
     "name": "stderr",
     "output_type": "stream",
     "text": [
      "2025-03-11 18:38:01.422609: I tensorflow/core/platform/cpu_feature_guard.cc:210] This TensorFlow binary is optimized to use available CPU instructions in performance-critical operations.\n",
      "To enable the following instructions: SSE4.1 SSE4.2 AVX AVX2 FMA, in other operations, rebuild TensorFlow with the appropriate compiler flags.\n"
     ]
    }
   ],
   "source": [
    "import tensorflow as tf\n",
    "import keras\n",
    "\n",
    "import numpy as np\n",
    "import pandas as pd\n",
    "\n",
    "from sklearn.metrics import confusion_matrix, classification_report, accuracy_score, roc_auc_score, roc_curve\n",
    "import matplotlib.pyplot as plt"
   ]
  },
  {
   "cell_type": "markdown",
   "id": "ef032670-f101-4bb5-b9cb-ddab348c6a47",
   "metadata": {},
   "source": [
    "## What does this notebook do?\n",
    "\n",
    "This notebook loads the prognostic logistic regression model from this paper:\n",
    "\n",
    "https://pubmed.ncbi.nlm.nih.gov/36223331/\n",
    "\n",
    "and exports it as a TensorFlow Lite model"
   ]
  },
  {
   "cell_type": "code",
   "execution_count": 2,
   "id": "799c522e-6efd-4201-9ac0-8e9c0c45510b",
   "metadata": {},
   "outputs": [],
   "source": [
    "# %load_ext watermark\n",
    "# %watermark -v -m -p jupyterlab,pandas,numpy,matplotlib,sklearn,tensorflow"
   ]
  },
  {
   "cell_type": "code",
   "execution_count": 5,
   "id": "00c0e1dd-3bda-43c2-a36e-02347e61ac3b",
   "metadata": {},
   "outputs": [],
   "source": [
    "# Defines a custom TF layer for Restricted Cubic Spline (RCS) term of order 3\n",
    "class RestrictedCubicSplineWith3KnotPositions(tf.keras.layers.Layer):\n",
    "    def __init__(self, knots, **kwargs):\n",
    "        super(RestrictedCubicSplineWith3KnotPositions, self).__init__(**kwargs)\n",
    "        self.knots = tf.constant(knots, dtype=tf.float32)        \n",
    "\n",
    "    def call(self, inputs):\n",
    "        x = inputs\n",
    "        knots = self.knots\n",
    "        \n",
    "        k0 = knots[0]\n",
    "        k1 = knots[1]\n",
    "        k2 = knots[2]\n",
    "        c = (k2 - k0) * (k2 - k0)\n",
    "        \n",
    "        # Calculate basis functions\n",
    "        y = ((tf.maximum(x - k0, 0)**3 - tf.maximum(x - k1, 0)**3 * (k2 - k0)/(k2 - k1) + tf.maximum(x - k2, 0)**3 * (k1 - k0)/(k2 - k1)) / c)\n",
    "        basis = [x, y]\n",
    "        \n",
    "        return tf.stack(basis, axis=-1)"
   ]
  },
  {
   "cell_type": "code",
   "execution_count": 6,
   "id": "13b2ec60-b968-4184-bbae-3981cb365505",
   "metadata": {},
   "outputs": [],
   "source": [
    "# Construct the model by hand (bias, weights, and knots values taken from the model.csv file)\n",
    "# The features are PatientAge, CT, AnyBleeding, Diarrhoea, Breathlessness, SwallowingProblems\n",
    "\n",
    "bias = np.array([6.5164]).reshape(1, ) # The intercept coefficient\n",
    "\n",
    "# Age and CT are RCS terms or order 3, so they need 3 knot values each (https://hbiostat.org/rmsc/genreg.html#sec-rcspline)\n",
    "age_knots = [2, 10, 16] # The position of the knots for age \n",
    "ct_knots = [18.6, 25.2, 34.5] # The position of the knots for CT \n",
    "\n",
    "# The features' coefficients (in the order stated above, which should match the order in the data file). \n",
    "# Note that, because age and CT are RCS terms, they need two coefficients each.\n",
    "weights = np.array([[-0.3806], [0.3034], [-0.2139], [0.1545], [0.3245], [0.2672], [0.3624], [0.427]])\n",
    "\n",
    "# The features names according to the published papers\n",
    "feature_names = ['PatientAge', 'CT', 'AnyBleeding', 'Diarrhoea', 'Breathlessness', 'SwallowingProblems']\n",
    "\n",
    "# The original variable names in the data file\n",
    "out_var = 'S7.FinalStatus'\n",
    "orig_var_names = {\n",
    "  'PatientAge':'AD.Age',\n",
    "  'CT':'Lab.CtNP.D1',\n",
    "  'AnyBleeding':'S2.Bleeding',\n",
    "  'Diarrhoea':'S2.Diarrhea',\n",
    "  'Breathlessness':'S2.DifficultyBreathing', \n",
    "  'SwallowingProblems':'S2.DifficultySwallowing'\n",
    "}"
   ]
  },
  {
   "cell_type": "code",
   "execution_count": 7,
   "id": "5a870ec8-355e-4925-97ca-35d2759b7d33",
   "metadata": {},
   "outputs": [],
   "source": [
    "# Define inputs\n",
    "input_rcs_age = tf.keras.Input(shape=(1,), name=\"input_feats_1\")\n",
    "input_rcs_ct = tf.keras.Input(shape=(1,), name=\"input_feats_2\")\n",
    "input_linear_feats = tf.keras.Input(shape=(4,), name=\"input_feats_3-6\")\n",
    "\n",
    "# Apply RCS transformation\n",
    "input_rcs_age_transformed = RestrictedCubicSplineWith3KnotPositions(age_knots)(input_rcs_age)\n",
    "input_rcs_ct_transformed = RestrictedCubicSplineWith3KnotPositions(ct_knots)(input_rcs_ct)\n",
    "\n",
    "# Reshape RCS-transformed features to match the shape of untouched features\n",
    "input_rcs_age_transformed = tf.keras.layers.Reshape((-1,))(input_rcs_age_transformed)\n",
    "input_rcs_ct_transformed = tf.keras.layers.Reshape((-1,))(input_rcs_ct_transformed)\n",
    "\n",
    "# Combine RCS-transformed features with linear features\n",
    "combined_features = tf.keras.layers.Concatenate()([input_rcs_age_transformed, input_rcs_ct_transformed, input_linear_feats])"
   ]
  },
  {
   "cell_type": "code",
   "execution_count": 8,
   "id": "1bc64d16-39ab-4c65-b595-1a5769662213",
   "metadata": {},
   "outputs": [
    {
     "data": {
      "text/html": [
       "<pre style=\"white-space:pre;overflow-x:auto;line-height:normal;font-family:Menlo,'DejaVu Sans Mono',consolas,'Courier New',monospace\"><span style=\"font-weight: bold\">Model: \"ebola-pediatric-prognosis\"</span>\n",
       "</pre>\n"
      ],
      "text/plain": [
       "\u001b[1mModel: \"ebola-pediatric-prognosis\"\u001b[0m\n"
      ]
     },
     "metadata": {},
     "output_type": "display_data"
    },
    {
     "data": {
      "text/html": [
       "<pre style=\"white-space:pre;overflow-x:auto;line-height:normal;font-family:Menlo,'DejaVu Sans Mono',consolas,'Courier New',monospace\">┏━━━━━━━━━━━━━━━━━━━━━┳━━━━━━━━━━━━━━━━━━━┳━━━━━━━━━━━━┳━━━━━━━━━━━━━━━━━━━┓\n",
       "┃<span style=\"font-weight: bold\"> Layer (type)        </span>┃<span style=\"font-weight: bold\"> Output Shape      </span>┃<span style=\"font-weight: bold\">    Param # </span>┃<span style=\"font-weight: bold\"> Connected to      </span>┃\n",
       "┡━━━━━━━━━━━━━━━━━━━━━╇━━━━━━━━━━━━━━━━━━━╇━━━━━━━━━━━━╇━━━━━━━━━━━━━━━━━━━┩\n",
       "│ input_feats_1       │ (<span style=\"color: #00d7ff; text-decoration-color: #00d7ff\">None</span>, <span style=\"color: #00af00; text-decoration-color: #00af00\">1</span>)         │          <span style=\"color: #00af00; text-decoration-color: #00af00\">0</span> │ -                 │\n",
       "│ (<span style=\"color: #0087ff; text-decoration-color: #0087ff\">InputLayer</span>)        │                   │            │                   │\n",
       "├─────────────────────┼───────────────────┼────────────┼───────────────────┤\n",
       "│ input_feats_2       │ (<span style=\"color: #00d7ff; text-decoration-color: #00d7ff\">None</span>, <span style=\"color: #00af00; text-decoration-color: #00af00\">1</span>)         │          <span style=\"color: #00af00; text-decoration-color: #00af00\">0</span> │ -                 │\n",
       "│ (<span style=\"color: #0087ff; text-decoration-color: #0087ff\">InputLayer</span>)        │                   │            │                   │\n",
       "├─────────────────────┼───────────────────┼────────────┼───────────────────┤\n",
       "│ restricted_cubic_s… │ (<span style=\"color: #00d7ff; text-decoration-color: #00d7ff\">None</span>, <span style=\"color: #00af00; text-decoration-color: #00af00\">1</span>, <span style=\"color: #00af00; text-decoration-color: #00af00\">2</span>)      │          <span style=\"color: #00af00; text-decoration-color: #00af00\">0</span> │ input_feats_1[<span style=\"color: #00af00; text-decoration-color: #00af00\">0</span>]… │\n",
       "│ (<span style=\"color: #0087ff; text-decoration-color: #0087ff\">RestrictedCubicSp…</span> │                   │            │                   │\n",
       "├─────────────────────┼───────────────────┼────────────┼───────────────────┤\n",
       "│ restricted_cubic_s… │ (<span style=\"color: #00d7ff; text-decoration-color: #00d7ff\">None</span>, <span style=\"color: #00af00; text-decoration-color: #00af00\">1</span>, <span style=\"color: #00af00; text-decoration-color: #00af00\">2</span>)      │          <span style=\"color: #00af00; text-decoration-color: #00af00\">0</span> │ input_feats_2[<span style=\"color: #00af00; text-decoration-color: #00af00\">0</span>]… │\n",
       "│ (<span style=\"color: #0087ff; text-decoration-color: #0087ff\">RestrictedCubicSp…</span> │                   │            │                   │\n",
       "├─────────────────────┼───────────────────┼────────────┼───────────────────┤\n",
       "│ reshape (<span style=\"color: #0087ff; text-decoration-color: #0087ff\">Reshape</span>)   │ (<span style=\"color: #00d7ff; text-decoration-color: #00d7ff\">None</span>, <span style=\"color: #00af00; text-decoration-color: #00af00\">2</span>)         │          <span style=\"color: #00af00; text-decoration-color: #00af00\">0</span> │ restricted_cubic… │\n",
       "├─────────────────────┼───────────────────┼────────────┼───────────────────┤\n",
       "│ reshape_1 (<span style=\"color: #0087ff; text-decoration-color: #0087ff\">Reshape</span>) │ (<span style=\"color: #00d7ff; text-decoration-color: #00d7ff\">None</span>, <span style=\"color: #00af00; text-decoration-color: #00af00\">2</span>)         │          <span style=\"color: #00af00; text-decoration-color: #00af00\">0</span> │ restricted_cubic… │\n",
       "├─────────────────────┼───────────────────┼────────────┼───────────────────┤\n",
       "│ input_feats_3-6     │ (<span style=\"color: #00d7ff; text-decoration-color: #00d7ff\">None</span>, <span style=\"color: #00af00; text-decoration-color: #00af00\">4</span>)         │          <span style=\"color: #00af00; text-decoration-color: #00af00\">0</span> │ -                 │\n",
       "│ (<span style=\"color: #0087ff; text-decoration-color: #0087ff\">InputLayer</span>)        │                   │            │                   │\n",
       "├─────────────────────┼───────────────────┼────────────┼───────────────────┤\n",
       "│ concatenate         │ (<span style=\"color: #00d7ff; text-decoration-color: #00d7ff\">None</span>, <span style=\"color: #00af00; text-decoration-color: #00af00\">8</span>)         │          <span style=\"color: #00af00; text-decoration-color: #00af00\">0</span> │ reshape[<span style=\"color: #00af00; text-decoration-color: #00af00\">0</span>][<span style=\"color: #00af00; text-decoration-color: #00af00\">0</span>],    │\n",
       "│ (<span style=\"color: #0087ff; text-decoration-color: #0087ff\">Concatenate</span>)       │                   │            │ reshape_1[<span style=\"color: #00af00; text-decoration-color: #00af00\">0</span>][<span style=\"color: #00af00; text-decoration-color: #00af00\">0</span>],  │\n",
       "│                     │                   │            │ input_feats_3-6[<span style=\"color: #00af00; text-decoration-color: #00af00\">…</span> │\n",
       "├─────────────────────┼───────────────────┼────────────┼───────────────────┤\n",
       "│ logreg (<span style=\"color: #0087ff; text-decoration-color: #0087ff\">Dense</span>)      │ (<span style=\"color: #00d7ff; text-decoration-color: #00d7ff\">None</span>, <span style=\"color: #00af00; text-decoration-color: #00af00\">1</span>)         │          <span style=\"color: #00af00; text-decoration-color: #00af00\">9</span> │ concatenate[<span style=\"color: #00af00; text-decoration-color: #00af00\">0</span>][<span style=\"color: #00af00; text-decoration-color: #00af00\">0</span>] │\n",
       "└─────────────────────┴───────────────────┴────────────┴───────────────────┘\n",
       "</pre>\n"
      ],
      "text/plain": [
       "┏━━━━━━━━━━━━━━━━━━━━━┳━━━━━━━━━━━━━━━━━━━┳━━━━━━━━━━━━┳━━━━━━━━━━━━━━━━━━━┓\n",
       "┃\u001b[1m \u001b[0m\u001b[1mLayer (type)       \u001b[0m\u001b[1m \u001b[0m┃\u001b[1m \u001b[0m\u001b[1mOutput Shape     \u001b[0m\u001b[1m \u001b[0m┃\u001b[1m \u001b[0m\u001b[1m   Param #\u001b[0m\u001b[1m \u001b[0m┃\u001b[1m \u001b[0m\u001b[1mConnected to     \u001b[0m\u001b[1m \u001b[0m┃\n",
       "┡━━━━━━━━━━━━━━━━━━━━━╇━━━━━━━━━━━━━━━━━━━╇━━━━━━━━━━━━╇━━━━━━━━━━━━━━━━━━━┩\n",
       "│ input_feats_1       │ (\u001b[38;5;45mNone\u001b[0m, \u001b[38;5;34m1\u001b[0m)         │          \u001b[38;5;34m0\u001b[0m │ -                 │\n",
       "│ (\u001b[38;5;33mInputLayer\u001b[0m)        │                   │            │                   │\n",
       "├─────────────────────┼───────────────────┼────────────┼───────────────────┤\n",
       "│ input_feats_2       │ (\u001b[38;5;45mNone\u001b[0m, \u001b[38;5;34m1\u001b[0m)         │          \u001b[38;5;34m0\u001b[0m │ -                 │\n",
       "│ (\u001b[38;5;33mInputLayer\u001b[0m)        │                   │            │                   │\n",
       "├─────────────────────┼───────────────────┼────────────┼───────────────────┤\n",
       "│ restricted_cubic_s… │ (\u001b[38;5;45mNone\u001b[0m, \u001b[38;5;34m1\u001b[0m, \u001b[38;5;34m2\u001b[0m)      │          \u001b[38;5;34m0\u001b[0m │ input_feats_1[\u001b[38;5;34m0\u001b[0m]… │\n",
       "│ (\u001b[38;5;33mRestrictedCubicSp…\u001b[0m │                   │            │                   │\n",
       "├─────────────────────┼───────────────────┼────────────┼───────────────────┤\n",
       "│ restricted_cubic_s… │ (\u001b[38;5;45mNone\u001b[0m, \u001b[38;5;34m1\u001b[0m, \u001b[38;5;34m2\u001b[0m)      │          \u001b[38;5;34m0\u001b[0m │ input_feats_2[\u001b[38;5;34m0\u001b[0m]… │\n",
       "│ (\u001b[38;5;33mRestrictedCubicSp…\u001b[0m │                   │            │                   │\n",
       "├─────────────────────┼───────────────────┼────────────┼───────────────────┤\n",
       "│ reshape (\u001b[38;5;33mReshape\u001b[0m)   │ (\u001b[38;5;45mNone\u001b[0m, \u001b[38;5;34m2\u001b[0m)         │          \u001b[38;5;34m0\u001b[0m │ restricted_cubic… │\n",
       "├─────────────────────┼───────────────────┼────────────┼───────────────────┤\n",
       "│ reshape_1 (\u001b[38;5;33mReshape\u001b[0m) │ (\u001b[38;5;45mNone\u001b[0m, \u001b[38;5;34m2\u001b[0m)         │          \u001b[38;5;34m0\u001b[0m │ restricted_cubic… │\n",
       "├─────────────────────┼───────────────────┼────────────┼───────────────────┤\n",
       "│ input_feats_3-6     │ (\u001b[38;5;45mNone\u001b[0m, \u001b[38;5;34m4\u001b[0m)         │          \u001b[38;5;34m0\u001b[0m │ -                 │\n",
       "│ (\u001b[38;5;33mInputLayer\u001b[0m)        │                   │            │                   │\n",
       "├─────────────────────┼───────────────────┼────────────┼───────────────────┤\n",
       "│ concatenate         │ (\u001b[38;5;45mNone\u001b[0m, \u001b[38;5;34m8\u001b[0m)         │          \u001b[38;5;34m0\u001b[0m │ reshape[\u001b[38;5;34m0\u001b[0m][\u001b[38;5;34m0\u001b[0m],    │\n",
       "│ (\u001b[38;5;33mConcatenate\u001b[0m)       │                   │            │ reshape_1[\u001b[38;5;34m0\u001b[0m][\u001b[38;5;34m0\u001b[0m],  │\n",
       "│                     │                   │            │ input_feats_3-6[\u001b[38;5;34m…\u001b[0m │\n",
       "├─────────────────────┼───────────────────┼────────────┼───────────────────┤\n",
       "│ logreg (\u001b[38;5;33mDense\u001b[0m)      │ (\u001b[38;5;45mNone\u001b[0m, \u001b[38;5;34m1\u001b[0m)         │          \u001b[38;5;34m9\u001b[0m │ concatenate[\u001b[38;5;34m0\u001b[0m][\u001b[38;5;34m0\u001b[0m] │\n",
       "└─────────────────────┴───────────────────┴────────────┴───────────────────┘\n"
      ]
     },
     "metadata": {},
     "output_type": "display_data"
    },
    {
     "data": {
      "text/html": [
       "<pre style=\"white-space:pre;overflow-x:auto;line-height:normal;font-family:Menlo,'DejaVu Sans Mono',consolas,'Courier New',monospace\"><span style=\"font-weight: bold\"> Total params: </span><span style=\"color: #00af00; text-decoration-color: #00af00\">9</span> (36.00 B)\n",
       "</pre>\n"
      ],
      "text/plain": [
       "\u001b[1m Total params: \u001b[0m\u001b[38;5;34m9\u001b[0m (36.00 B)\n"
      ]
     },
     "metadata": {},
     "output_type": "display_data"
    },
    {
     "data": {
      "text/html": [
       "<pre style=\"white-space:pre;overflow-x:auto;line-height:normal;font-family:Menlo,'DejaVu Sans Mono',consolas,'Courier New',monospace\"><span style=\"font-weight: bold\"> Trainable params: </span><span style=\"color: #00af00; text-decoration-color: #00af00\">9</span> (36.00 B)\n",
       "</pre>\n"
      ],
      "text/plain": [
       "\u001b[1m Trainable params: \u001b[0m\u001b[38;5;34m9\u001b[0m (36.00 B)\n"
      ]
     },
     "metadata": {},
     "output_type": "display_data"
    },
    {
     "data": {
      "text/html": [
       "<pre style=\"white-space:pre;overflow-x:auto;line-height:normal;font-family:Menlo,'DejaVu Sans Mono',consolas,'Courier New',monospace\"><span style=\"font-weight: bold\"> Non-trainable params: </span><span style=\"color: #00af00; text-decoration-color: #00af00\">0</span> (0.00 B)\n",
       "</pre>\n"
      ],
      "text/plain": [
       "\u001b[1m Non-trainable params: \u001b[0m\u001b[38;5;34m0\u001b[0m (0.00 B)\n"
      ]
     },
     "metadata": {},
     "output_type": "display_data"
    }
   ],
   "source": [
    "# Define the logistic regression model\n",
    "outputs = tf.keras.layers.Dense(1, activation=\"sigmoid\", name=\"logreg\")(combined_features)\n",
    "model = tf.keras.Model(inputs=[input_rcs_age, input_rcs_ct, input_linear_feats], outputs=outputs, name=\"ebola-pediatric-prognosis\")\n",
    "model.compile(loss = \"binary_crossentropy\")\n",
    "model.summary()"
   ]
  },
  {
   "cell_type": "code",
   "execution_count": 9,
   "id": "13c5bc47-831e-4e5a-93f3-28ac117a689d",
   "metadata": {},
   "outputs": [
    {
     "data": {
      "text/plain": [
       "[array([[-0.3806],\n",
       "        [ 0.3034],\n",
       "        [-0.2139],\n",
       "        [ 0.1545],\n",
       "        [ 0.3245],\n",
       "        [ 0.2672],\n",
       "        [ 0.3624],\n",
       "        [ 0.427 ]], dtype=float32),\n",
       " array([6.5164], dtype=float32)]"
      ]
     },
     "execution_count": 9,
     "metadata": {},
     "output_type": "execute_result"
    }
   ],
   "source": [
    "model.set_weights([weights, bias])\n",
    "model.get_weights()"
   ]
  },
  {
   "cell_type": "code",
   "execution_count": 10,
   "id": "6ff4a5d7-9819-4e77-a97b-0ca4fe9632a1",
   "metadata": {},
   "outputs": [
    {
     "data": {
      "text/html": [
       "<div>\n",
       "<style scoped>\n",
       "    .dataframe tbody tr th:only-of-type {\n",
       "        vertical-align: middle;\n",
       "    }\n",
       "\n",
       "    .dataframe tbody tr th {\n",
       "        vertical-align: top;\n",
       "    }\n",
       "\n",
       "    .dataframe thead th {\n",
       "        text-align: right;\n",
       "    }\n",
       "</style>\n",
       "<table border=\"1\" class=\"dataframe\">\n",
       "  <thead>\n",
       "    <tr style=\"text-align: right;\">\n",
       "      <th></th>\n",
       "      <th>S7.FinalStatus</th>\n",
       "      <th>AD.Age</th>\n",
       "      <th>Lab.CtNP.D1</th>\n",
       "      <th>S2.Bleeding</th>\n",
       "      <th>S2.Diarrhea</th>\n",
       "      <th>S2.DifficultyBreathing</th>\n",
       "      <th>S2.DifficultySwallowing</th>\n",
       "    </tr>\n",
       "  </thead>\n",
       "  <tbody>\n",
       "    <tr>\n",
       "      <th>0</th>\n",
       "      <td>0.0</td>\n",
       "      <td>13.000</td>\n",
       "      <td>27.2</td>\n",
       "      <td>0</td>\n",
       "      <td>1</td>\n",
       "      <td>0</td>\n",
       "      <td>0</td>\n",
       "    </tr>\n",
       "    <tr>\n",
       "      <th>1</th>\n",
       "      <td>1.0</td>\n",
       "      <td>14.000</td>\n",
       "      <td>18.5</td>\n",
       "      <td>1</td>\n",
       "      <td>1</td>\n",
       "      <td>1</td>\n",
       "      <td>1</td>\n",
       "    </tr>\n",
       "    <tr>\n",
       "      <th>2</th>\n",
       "      <td>1.0</td>\n",
       "      <td>5.000</td>\n",
       "      <td>18.1</td>\n",
       "      <td>1</td>\n",
       "      <td>1</td>\n",
       "      <td>1</td>\n",
       "      <td>0</td>\n",
       "    </tr>\n",
       "    <tr>\n",
       "      <th>3</th>\n",
       "      <td>0.0</td>\n",
       "      <td>0.250</td>\n",
       "      <td>18.7</td>\n",
       "      <td>0</td>\n",
       "      <td>0</td>\n",
       "      <td>0</td>\n",
       "      <td>0</td>\n",
       "    </tr>\n",
       "    <tr>\n",
       "      <th>4</th>\n",
       "      <td>0.0</td>\n",
       "      <td>8.000</td>\n",
       "      <td>25.4</td>\n",
       "      <td>0</td>\n",
       "      <td>1</td>\n",
       "      <td>1</td>\n",
       "      <td>1</td>\n",
       "    </tr>\n",
       "    <tr>\n",
       "      <th>...</th>\n",
       "      <td>...</td>\n",
       "      <td>...</td>\n",
       "      <td>...</td>\n",
       "      <td>...</td>\n",
       "      <td>...</td>\n",
       "      <td>...</td>\n",
       "      <td>...</td>\n",
       "    </tr>\n",
       "    <tr>\n",
       "      <th>67</th>\n",
       "      <td>0.0</td>\n",
       "      <td>7.000</td>\n",
       "      <td>27.3</td>\n",
       "      <td>0</td>\n",
       "      <td>0</td>\n",
       "      <td>0</td>\n",
       "      <td>0</td>\n",
       "    </tr>\n",
       "    <tr>\n",
       "      <th>69</th>\n",
       "      <td>1.0</td>\n",
       "      <td>17.000</td>\n",
       "      <td>20.5</td>\n",
       "      <td>0</td>\n",
       "      <td>0</td>\n",
       "      <td>0</td>\n",
       "      <td>0</td>\n",
       "    </tr>\n",
       "    <tr>\n",
       "      <th>70</th>\n",
       "      <td>0.0</td>\n",
       "      <td>0.167</td>\n",
       "      <td>22.1</td>\n",
       "      <td>0</td>\n",
       "      <td>0</td>\n",
       "      <td>0</td>\n",
       "      <td>0</td>\n",
       "    </tr>\n",
       "    <tr>\n",
       "      <th>71</th>\n",
       "      <td>0.0</td>\n",
       "      <td>1.000</td>\n",
       "      <td>18.5</td>\n",
       "      <td>0</td>\n",
       "      <td>0</td>\n",
       "      <td>0</td>\n",
       "      <td>0</td>\n",
       "    </tr>\n",
       "    <tr>\n",
       "      <th>72</th>\n",
       "      <td>1.0</td>\n",
       "      <td>0.580</td>\n",
       "      <td>19.1</td>\n",
       "      <td>0</td>\n",
       "      <td>0</td>\n",
       "      <td>1</td>\n",
       "      <td>0</td>\n",
       "    </tr>\n",
       "  </tbody>\n",
       "</table>\n",
       "<p>67 rows × 7 columns</p>\n",
       "</div>"
      ],
      "text/plain": [
       "    S7.FinalStatus  AD.Age  Lab.CtNP.D1  S2.Bleeding  S2.Diarrhea  \\\n",
       "0              0.0  13.000         27.2            0            1   \n",
       "1              1.0  14.000         18.5            1            1   \n",
       "2              1.0   5.000         18.1            1            1   \n",
       "3              0.0   0.250         18.7            0            0   \n",
       "4              0.0   8.000         25.4            0            1   \n",
       "..             ...     ...          ...          ...          ...   \n",
       "67             0.0   7.000         27.3            0            0   \n",
       "69             1.0  17.000         20.5            0            0   \n",
       "70             0.0   0.167         22.1            0            0   \n",
       "71             0.0   1.000         18.5            0            0   \n",
       "72             1.0   0.580         19.1            0            0   \n",
       "\n",
       "    S2.DifficultyBreathing  S2.DifficultySwallowing  \n",
       "0                        0                        0  \n",
       "1                        1                        1  \n",
       "2                        1                        0  \n",
       "3                        0                        0  \n",
       "4                        1                        1  \n",
       "..                     ...                      ...  \n",
       "67                       0                        0  \n",
       "69                       0                        0  \n",
       "70                       0                        0  \n",
       "71                       0                        0  \n",
       "72                       1                        0  \n",
       "\n",
       "[67 rows x 7 columns]"
      ]
     },
     "execution_count": 10,
     "metadata": {},
     "output_type": "execute_result"
    }
   ],
   "source": [
    "# Loading the data\n",
    "drc_data_file = 'data.csv'\n",
    "drc_data = pd.read_csv(drc_data_file, na_values=\"\\\\N\")\n",
    "\n",
    "columns = [out_var] + [orig_var_names[feat] for feat in feature_names]\n",
    "\n",
    "test_data = drc_data[columns]\n",
    "complete_data = test_data.dropna()\n",
    "complete_data"
   ]
  },
  {
   "cell_type": "code",
   "execution_count": 11,
   "id": "7ed7de9b-b3d7-4c40-bebc-5faa4cb9127d",
   "metadata": {},
   "outputs": [],
   "source": [
    "all_feat_values = complete_data[complete_data.columns[1:]].values\n",
    "age_values = all_feat_values[:,0]\n",
    "ct_values = all_feat_values[:,1]\n",
    "symp_values = all_feat_values[:,2:]\n",
    "\n",
    "out_values = [int(v) for v in complete_data[complete_data.columns[0]].values]"
   ]
  },
  {
   "cell_type": "code",
   "execution_count": 12,
   "id": "08d78ecc-db1e-4416-b97e-4fdfae80b1ef",
   "metadata": {},
   "outputs": [
    {
     "name": "stdout",
     "output_type": "stream",
     "text": [
      "\u001b[1m3/3\u001b[0m \u001b[32m━━━━━━━━━━━━━━━━━━━━\u001b[0m\u001b[37m\u001b[0m \u001b[1m0s\u001b[0m 48ms/step \n"
     ]
    }
   ],
   "source": [
    "# Make predictions\n",
    "pred_probs = model.predict([age_values, ct_values, symp_values])\n",
    "pred_values = (pred_probs > 0.5).astype(\"int32\")"
   ]
  },
  {
   "cell_type": "code",
   "execution_count": 13,
   "id": "d3099555-e8a9-4d55-9f31-a9f2225f223d",
   "metadata": {},
   "outputs": [
    {
     "name": "stdout",
     "output_type": "stream",
     "text": [
      "[[19 17]\n",
      " [ 3 28]]\n",
      "              precision    recall  f1-score   support\n",
      "\n",
      "           0       0.86      0.53      0.66        36\n",
      "           1       0.62      0.90      0.74        31\n",
      "\n",
      "    accuracy                           0.70        67\n",
      "   macro avg       0.74      0.72      0.70        67\n",
      "weighted avg       0.75      0.70      0.69        67\n",
      "\n",
      "Accuracy Score: 0.7014925373134329\n",
      "ROC-AUC Score: 0.7589605734767025\n"
     ]
    }
   ],
   "source": [
    "print(confusion_matrix(out_values, pred_values))\n",
    "print(classification_report(out_values, pred_values))\n",
    "print(f'Accuracy Score: {accuracy_score(out_values, pred_values)}')\n",
    "\n",
    "roc_auc = roc_auc_score(out_values, pred_probs)\n",
    "print(f'ROC-AUC Score: {roc_auc}')"
   ]
  },
  {
   "cell_type": "code",
   "execution_count": 14,
   "id": "26c9ef8b-f682-47f5-847a-b91731e1bdbe",
   "metadata": {},
   "outputs": [
    {
     "data": {
      "image/png": "[encoded data removed]",
      "text/plain": [
       "<Figure size 640x480 with 1 Axes>"
      ]
     },
     "metadata": {},
     "output_type": "display_data"
    }
   ],
   "source": [
    "fpr, tpr, _ = roc_curve(out_values, pred_probs)\n",
    "plt.figure()\n",
    "plt.plot(fpr, tpr, color='darkorange', lw=2, label='ROC curve (area = %0.2f)' % roc_auc)\n",
    "plt.plot([0, 1], [0, 1], color='navy', lw=2, linestyle='--')\n",
    "plt.xlim([0.0, 1.0])\n",
    "plt.ylim([0.0, 1.05])\n",
    "plt.xlabel('False Positive Rate')\n",
    "plt.ylabel('True Positive Rate')\n",
    "plt.title('Receiver Operating Characteristic')\n",
    "plt.legend(loc=\"lower right\")\n",
    "plt.show()"
   ]
  },
  {
   "cell_type": "code",
   "execution_count": 15,
   "id": "93740cba-bd61-4f7b-a270-49f445d5d9f6",
   "metadata": {},
   "outputs": [
    {
     "name": "stderr",
     "output_type": "stream",
     "text": [
      "WARNING:absl:`input_feats_3-6` is not a valid tf.function parameter name. Sanitizing to `input_feats_3_6`.\n",
      "WARNING:absl:`input_feats_3-6` is not a valid tf.function parameter name. Sanitizing to `input_feats_3_6`.\n",
      "WARNING:absl:`input_feats_3-6` is not a valid tf.function parameter name. Sanitizing to `input_feats_3_6`.\n",
      "WARNING:absl:`input_feats_3-6` is not a valid tf.function parameter name. Sanitizing to `input_feats_3_6`.\n",
      "WARNING:absl:`input_feats_3-6` is not a valid tf.function parameter name. Sanitizing to `input_feats_3_6`.\n"
     ]
    },
    {
     "name": "stdout",
     "output_type": "stream",
     "text": [
      "INFO:tensorflow:Assets written to: /var/folders/4g/z3rj5j_j781_8ckvkcy7p4840000gp/T/tmpv4ub62st/assets\n"
     ]
    },
    {
     "name": "stderr",
     "output_type": "stream",
     "text": [
      "INFO:tensorflow:Assets written to: /var/folders/4g/z3rj5j_j781_8ckvkcy7p4840000gp/T/tmpv4ub62st/assets\n"
     ]
    },
    {
     "name": "stdout",
     "output_type": "stream",
     "text": [
      "Saved artifact at '/var/folders/4g/z3rj5j_j781_8ckvkcy7p4840000gp/T/tmpv4ub62st'. The following endpoints are available:\n",
      "\n",
      "* Endpoint 'serve'\n",
      "  args_0 (POSITIONAL_ONLY): List[TensorSpec(shape=(None, 1), dtype=tf.float32, name='input_feats_1'), TensorSpec(shape=(None, 1), dtype=tf.float32, name='input_feats_2'), TensorSpec(shape=(None, 4), dtype=tf.float32, name='input_feats_3-6')]\n",
      "Output Type:\n",
      "  TensorSpec(shape=(None, 1), dtype=tf.float32, name=None)\n",
      "Captures:\n",
      "  6818728080: TensorSpec(shape=(3,), dtype=tf.float32, name=None)\n",
      "  6814233808: TensorSpec(shape=(3,), dtype=tf.float32, name=None)\n",
      "  6818728272: TensorSpec(shape=(), dtype=tf.resource, name=None)\n",
      "  6818732112: TensorSpec(shape=(), dtype=tf.resource, name=None)\n"
     ]
    },
    {
     "name": "stderr",
     "output_type": "stream",
     "text": [
      "WARNING: All log messages before absl::InitializeLog() is called are written to STDERR\n",
      "W0000 00:00:1741732811.695416 27895072 tf_tfl_flatbuffer_helpers.cc:392] Ignored output_format.\n",
      "W0000 00:00:1741732811.696706 27895072 tf_tfl_flatbuffer_helpers.cc:395] Ignored drop_control_dependency.\n",
      "2025-03-11 18:40:11.698286: I tensorflow/cc/saved_model/reader.cc:83] Reading SavedModel from: /var/folders/4g/z3rj5j_j781_8ckvkcy7p4840000gp/T/tmpv4ub62st\n",
      "2025-03-11 18:40:11.698803: I tensorflow/cc/saved_model/reader.cc:52] Reading meta graph with tags { serve }\n",
      "2025-03-11 18:40:11.698812: I tensorflow/cc/saved_model/reader.cc:147] Reading SavedModel debug info (if present) from: /var/folders/4g/z3rj5j_j781_8ckvkcy7p4840000gp/T/tmpv4ub62st\n",
      "2025-03-11 18:40:11.704257: I tensorflow/compiler/mlir/mlir_graph_optimization_pass.cc:388] MLIR V1 optimization pass is not enabled\n",
      "2025-03-11 18:40:11.704749: I tensorflow/cc/saved_model/loader.cc:236] Restoring SavedModel bundle.\n",
      "2025-03-11 18:40:11.731970: I tensorflow/cc/saved_model/loader.cc:220] Running initialization op on SavedModel bundle at path: /var/folders/4g/z3rj5j_j781_8ckvkcy7p4840000gp/T/tmpv4ub62st\n",
      "2025-03-11 18:40:11.740917: I tensorflow/cc/saved_model/loader.cc:462] SavedModel load for tags { serve }; Status: success: OK. Took 42805 microseconds.\n",
      "2025-03-11 18:40:11.789837: I tensorflow/compiler/mlir/tensorflow/utils/dump_mlir_util.cc:268] disabling MLIR crash reproducer, set env var `MLIR_CRASH_REPRODUCER_DIRECTORY` to enable.\n"
     ]
    }
   ],
   "source": [
    "# Convert and save the model in TFLite format\n",
    "\n",
    "converter = tf.lite.TFLiteConverter.from_keras_model(model)\n",
    "converter.allow_custom_ops = False  # Ensuring only supported ops are allowed; set to True if custom ops are necessary.\n",
    "tflite_model = converter.convert()\n",
    "\n",
    "with open('model.tflite', 'wb') as f:\n",
    "  f.write(tflite_model)"
   ]
  },
  {
   "cell_type": "code",
   "execution_count": 14,
   "id": "b5bcda63-1b76-4c0b-8115-ba48eacd6586",
   "metadata": {},
   "outputs": [
    {
     "name": "stderr",
     "output_type": "stream",
     "text": [
      "INFO: Initialized TensorFlow Lite runtime.\n"
     ]
    },
    {
     "data": {
      "text/plain": [
       "[{'name': 'serving_default_input_feats_2:0',\n",
       "  'index': 0,\n",
       "  'shape': array([1, 1], dtype=int32),\n",
       "  'shape_signature': array([-1,  1], dtype=int32),\n",
       "  'dtype': numpy.float32,\n",
       "  'quantization': (0.0, 0),\n",
       "  'quantization_parameters': {'scales': array([], dtype=float32),\n",
       "   'zero_points': array([], dtype=int32),\n",
       "   'quantized_dimension': 0},\n",
       "  'sparsity_parameters': {}},\n",
       " {'name': 'serving_default_input_feats_3-6:0',\n",
       "  'index': 1,\n",
       "  'shape': array([1, 4], dtype=int32),\n",
       "  'shape_signature': array([-1,  4], dtype=int32),\n",
       "  'dtype': numpy.float32,\n",
       "  'quantization': (0.0, 0),\n",
       "  'quantization_parameters': {'scales': array([], dtype=float32),\n",
       "   'zero_points': array([], dtype=int32),\n",
       "   'quantized_dimension': 0},\n",
       "  'sparsity_parameters': {}},\n",
       " {'name': 'serving_default_input_feats_1:0',\n",
       "  'index': 2,\n",
       "  'shape': array([1, 1], dtype=int32),\n",
       "  'shape_signature': array([-1,  1], dtype=int32),\n",
       "  'dtype': numpy.float32,\n",
       "  'quantization': (0.0, 0),\n",
       "  'quantization_parameters': {'scales': array([], dtype=float32),\n",
       "   'zero_points': array([], dtype=int32),\n",
       "   'quantized_dimension': 0},\n",
       "  'sparsity_parameters': {}}]"
      ]
     },
     "execution_count": 14,
     "metadata": {},
     "output_type": "execute_result"
    }
   ],
   "source": [
    "# Interpret TFLite model to look at the input details\n",
    "interpreter = tf.lite.Interpreter(model_content=tflite_model)\n",
    "input_details = interpreter.get_input_details()\n",
    "output_details = interpreter.get_output_details()\n",
    "input_details"
   ]
  }
 ],
 "metadata": {
  "kernelspec": {
   "display_name": "Python 3 (ipykernel)",
   "language": "python",
   "name": "python3"
  },
  "language_info": {
   "codemirror_mode": {
    "name": "ipython",
    "version": 3
   },
   "file_extension": ".py",
   "mimetype": "text/x-python",
   "name": "python",
   "nbconvert_exporter": "python",
   "pygments_lexer": "ipython3",
   "version": "3.12.9"
  }
 },
 "nbformat": 4,
 "nbformat_minor": 5
}
