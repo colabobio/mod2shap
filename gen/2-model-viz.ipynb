{
 "cells": [
  {
   "cell_type": "code",
   "execution_count": 1,
   "id": "4f4d1d9b-14f8-4f36-91f8-b1de3faa7c37",
   "metadata": {},
   "outputs": [
    {
     "name": "stderr",
     "output_type": "stream",
     "text": [
      "/Users/andres/miniconda3/envs/tfenv/lib/python3.12/site-packages/tqdm/auto.py:21: TqdmWarning: IProgress not found. Please update jupyter and ipywidgets. See https://ipywidgets.readthedocs.io/en/stable/user_install.html\n",
      "  from .autonotebook import tqdm as notebook_tqdm\n",
      "2025-03-11 18:40:36.231498: I tensorflow/core/platform/cpu_feature_guard.cc:210] This TensorFlow binary is optimized to use available CPU instructions in performance-critical operations.\n",
      "To enable the following instructions: SSE4.1 SSE4.2 AVX AVX2 FMA, in other operations, rebuild TensorFlow with the appropriate compiler flags.\n"
     ]
    }
   ],
   "source": [
    "import numpy as np\n",
    "import pandas as pd\n",
    "from sklearn.tree import DecisionTreeClassifier\n",
    "from sklearn.model_selection import train_test_split\n",
    "import shap\n",
    "import tensorflow as tf"
   ]
  },
  {
   "cell_type": "code",
   "execution_count": 2,
   "id": "9a5a371f-4ec1-4b7b-a15a-9181a16c2461",
   "metadata": {},
   "outputs": [],
   "source": [
    "# The features names according to the published papers\n",
    "feature_names = ['PatientAge', 'CT', 'AnyBleeding', 'Diarrhoea', 'Breathlessness', 'SwallowingProblems']\n",
    "\n",
    "# The original variable names in the data file\n",
    "out_var = 'S7.FinalStatus'\n",
    "orig_var_names = {\n",
    "  'PatientAge':'AD.Age',\n",
    "  'CT':'Lab.CtNP.D1',\n",
    "  'AnyBleeding':'S2.Bleeding',\n",
    "  'Diarrhoea':'S2.Diarrhea',\n",
    "  'Breathlessness':'S2.DifficultyBreathing', \n",
    "  'SwallowingProblems':'S2.DifficultySwallowing'\n",
    "}"
   ]
  },
  {
   "cell_type": "code",
   "execution_count": 3,
   "id": "5921d20b-7312-467b-9550-5e00f0975315",
   "metadata": {},
   "outputs": [
    {
     "data": {
      "text/html": [
       "<div>\n",
       "<style scoped>\n",
       "    .dataframe tbody tr th:only-of-type {\n",
       "        vertical-align: middle;\n",
       "    }\n",
       "\n",
       "    .dataframe tbody tr th {\n",
       "        vertical-align: top;\n",
       "    }\n",
       "\n",
       "    .dataframe thead th {\n",
       "        text-align: right;\n",
       "    }\n",
       "</style>\n",
       "<table border=\"1\" class=\"dataframe\">\n",
       "  <thead>\n",
       "    <tr style=\"text-align: right;\">\n",
       "      <th></th>\n",
       "      <th>S7.FinalStatus</th>\n",
       "      <th>AD.Age</th>\n",
       "      <th>Lab.CtNP.D1</th>\n",
       "      <th>S2.Bleeding</th>\n",
       "      <th>S2.Diarrhea</th>\n",
       "      <th>S2.DifficultyBreathing</th>\n",
       "      <th>S2.DifficultySwallowing</th>\n",
       "    </tr>\n",
       "  </thead>\n",
       "  <tbody>\n",
       "    <tr>\n",
       "      <th>0</th>\n",
       "      <td>0.0</td>\n",
       "      <td>13.000</td>\n",
       "      <td>27.2</td>\n",
       "      <td>0</td>\n",
       "      <td>1</td>\n",
       "      <td>0</td>\n",
       "      <td>0</td>\n",
       "    </tr>\n",
       "    <tr>\n",
       "      <th>1</th>\n",
       "      <td>1.0</td>\n",
       "      <td>14.000</td>\n",
       "      <td>18.5</td>\n",
       "      <td>1</td>\n",
       "      <td>1</td>\n",
       "      <td>1</td>\n",
       "      <td>1</td>\n",
       "    </tr>\n",
       "    <tr>\n",
       "      <th>2</th>\n",
       "      <td>1.0</td>\n",
       "      <td>5.000</td>\n",
       "      <td>18.1</td>\n",
       "      <td>1</td>\n",
       "      <td>1</td>\n",
       "      <td>1</td>\n",
       "      <td>0</td>\n",
       "    </tr>\n",
       "    <tr>\n",
       "      <th>3</th>\n",
       "      <td>0.0</td>\n",
       "      <td>0.250</td>\n",
       "      <td>18.7</td>\n",
       "      <td>0</td>\n",
       "      <td>0</td>\n",
       "      <td>0</td>\n",
       "      <td>0</td>\n",
       "    </tr>\n",
       "    <tr>\n",
       "      <th>4</th>\n",
       "      <td>0.0</td>\n",
       "      <td>8.000</td>\n",
       "      <td>25.4</td>\n",
       "      <td>0</td>\n",
       "      <td>1</td>\n",
       "      <td>1</td>\n",
       "      <td>1</td>\n",
       "    </tr>\n",
       "    <tr>\n",
       "      <th>...</th>\n",
       "      <td>...</td>\n",
       "      <td>...</td>\n",
       "      <td>...</td>\n",
       "      <td>...</td>\n",
       "      <td>...</td>\n",
       "      <td>...</td>\n",
       "      <td>...</td>\n",
       "    </tr>\n",
       "    <tr>\n",
       "      <th>67</th>\n",
       "      <td>0.0</td>\n",
       "      <td>7.000</td>\n",
       "      <td>27.3</td>\n",
       "      <td>0</td>\n",
       "      <td>0</td>\n",
       "      <td>0</td>\n",
       "      <td>0</td>\n",
       "    </tr>\n",
       "    <tr>\n",
       "      <th>69</th>\n",
       "      <td>1.0</td>\n",
       "      <td>17.000</td>\n",
       "      <td>20.5</td>\n",
       "      <td>0</td>\n",
       "      <td>0</td>\n",
       "      <td>0</td>\n",
       "      <td>0</td>\n",
       "    </tr>\n",
       "    <tr>\n",
       "      <th>70</th>\n",
       "      <td>0.0</td>\n",
       "      <td>0.167</td>\n",
       "      <td>22.1</td>\n",
       "      <td>0</td>\n",
       "      <td>0</td>\n",
       "      <td>0</td>\n",
       "      <td>0</td>\n",
       "    </tr>\n",
       "    <tr>\n",
       "      <th>71</th>\n",
       "      <td>0.0</td>\n",
       "      <td>1.000</td>\n",
       "      <td>18.5</td>\n",
       "      <td>0</td>\n",
       "      <td>0</td>\n",
       "      <td>0</td>\n",
       "      <td>0</td>\n",
       "    </tr>\n",
       "    <tr>\n",
       "      <th>72</th>\n",
       "      <td>1.0</td>\n",
       "      <td>0.580</td>\n",
       "      <td>19.1</td>\n",
       "      <td>0</td>\n",
       "      <td>0</td>\n",
       "      <td>1</td>\n",
       "      <td>0</td>\n",
       "    </tr>\n",
       "  </tbody>\n",
       "</table>\n",
       "<p>67 rows × 7 columns</p>\n",
       "</div>"
      ],
      "text/plain": [
       "    S7.FinalStatus  AD.Age  Lab.CtNP.D1  S2.Bleeding  S2.Diarrhea  \\\n",
       "0              0.0  13.000         27.2            0            1   \n",
       "1              1.0  14.000         18.5            1            1   \n",
       "2              1.0   5.000         18.1            1            1   \n",
       "3              0.0   0.250         18.7            0            0   \n",
       "4              0.0   8.000         25.4            0            1   \n",
       "..             ...     ...          ...          ...          ...   \n",
       "67             0.0   7.000         27.3            0            0   \n",
       "69             1.0  17.000         20.5            0            0   \n",
       "70             0.0   0.167         22.1            0            0   \n",
       "71             0.0   1.000         18.5            0            0   \n",
       "72             1.0   0.580         19.1            0            0   \n",
       "\n",
       "    S2.DifficultyBreathing  S2.DifficultySwallowing  \n",
       "0                        0                        0  \n",
       "1                        1                        1  \n",
       "2                        1                        0  \n",
       "3                        0                        0  \n",
       "4                        1                        1  \n",
       "..                     ...                      ...  \n",
       "67                       0                        0  \n",
       "69                       0                        0  \n",
       "70                       0                        0  \n",
       "71                       0                        0  \n",
       "72                       1                        0  \n",
       "\n",
       "[67 rows x 7 columns]"
      ]
     },
     "execution_count": 3,
     "metadata": {},
     "output_type": "execute_result"
    }
   ],
   "source": [
    "# Loading the data\n",
    "drc_data_file = 'data.csv'\n",
    "drc_data = pd.read_csv(drc_data_file, na_values=\"\\\\N\")\n",
    "\n",
    "columns = [out_var] + [orig_var_names[feat] for feat in feature_names]\n",
    "\n",
    "test_data = drc_data[columns]\n",
    "complete_data = test_data.dropna()\n",
    "complete_data"
   ]
  },
  {
   "cell_type": "code",
   "execution_count": 4,
   "id": "5d6c2633-fb1a-40e1-ae3f-37d8ae03eed6",
   "metadata": {},
   "outputs": [
    {
     "data": {
      "text/plain": [
       "(67, 7)"
      ]
     },
     "execution_count": 4,
     "metadata": {},
     "output_type": "execute_result"
    }
   ],
   "source": [
    "all_feat_values = complete_data.values\n",
    "all_feat_values.shape"
   ]
  },
  {
   "cell_type": "code",
   "execution_count": 5,
   "id": "9a176c8f-8b31-449f-af60-c10ff033e088",
   "metadata": {},
   "outputs": [
    {
     "name": "stderr",
     "output_type": "stream",
     "text": [
      "INFO: Initialized TensorFlow Lite runtime.\n",
      "INFO: Applying 1 TensorFlow Lite delegate(s) lazily.\n",
      "INFO: Created TensorFlow Lite XNNPACK delegate for CPU.\n",
      "INFO: XNNPack weight cache not enabled.\n",
      "VERBOSE: Replacing 23 out of 39 node(s) with delegate (TfLiteXNNPackDelegate) node, yielding 5 partitions for the whole graph.\n",
      "INFO: Successfully applied the default TensorFlow Lite delegate indexed at 0.\n",
      " *NOTE*: because a delegate has been applied, the precision of computations should be unchanged, but the exact output tensor values may have changed. If such output values are checked in your code, like in your tests etc., please consider increasing error tolerance for the check.\n"
     ]
    }
   ],
   "source": [
    "# Load TFLite model and allocate tensors.\n",
    "interpreter = tf.lite.Interpreter(model_path='model.tflite')\n",
    "\n",
    "# Get input and output tensors.\n",
    "input_details = interpreter.get_input_details()\n",
    "output_details = interpreter.get_output_details()\n",
    "\n",
    "# Allocate tensors\n",
    "interpreter.allocate_tensors()"
   ]
  },
  {
   "cell_type": "code",
   "execution_count": 6,
   "id": "50ff0ddc-66e6-43b2-acb1-7fa18e8fb21a",
   "metadata": {},
   "outputs": [
    {
     "data": {
      "text/plain": [
       "[{'name': 'serving_default_input_feats_2:0',\n",
       "  'index': 0,\n",
       "  'shape': array([1, 1], dtype=int32),\n",
       "  'shape_signature': array([-1,  1], dtype=int32),\n",
       "  'dtype': numpy.float32,\n",
       "  'quantization': (0.0, 0),\n",
       "  'quantization_parameters': {'scales': array([], dtype=float32),\n",
       "   'zero_points': array([], dtype=int32),\n",
       "   'quantized_dimension': 0},\n",
       "  'sparsity_parameters': {}},\n",
       " {'name': 'serving_default_input_feats_3-6:0',\n",
       "  'index': 1,\n",
       "  'shape': array([1, 4], dtype=int32),\n",
       "  'shape_signature': array([-1,  4], dtype=int32),\n",
       "  'dtype': numpy.float32,\n",
       "  'quantization': (0.0, 0),\n",
       "  'quantization_parameters': {'scales': array([], dtype=float32),\n",
       "   'zero_points': array([], dtype=int32),\n",
       "   'quantized_dimension': 0},\n",
       "  'sparsity_parameters': {}},\n",
       " {'name': 'serving_default_input_feats_1:0',\n",
       "  'index': 2,\n",
       "  'shape': array([1, 1], dtype=int32),\n",
       "  'shape_signature': array([-1,  1], dtype=int32),\n",
       "  'dtype': numpy.float32,\n",
       "  'quantization': (0.0, 0),\n",
       "  'quantization_parameters': {'scales': array([], dtype=float32),\n",
       "   'zero_points': array([], dtype=int32),\n",
       "   'quantized_dimension': 0},\n",
       "  'sparsity_parameters': {}}]"
      ]
     },
     "execution_count": 6,
     "metadata": {},
     "output_type": "execute_result"
    }
   ],
   "source": [
    "input_details"
   ]
  },
  {
   "cell_type": "code",
   "execution_count": 7,
   "id": "948779ca-5a06-49a3-ab91-b10a718caaa1",
   "metadata": {},
   "outputs": [
    {
     "data": {
      "text/plain": [
       "[{'name': 'StatefulPartitionedCall_1:0',\n",
       "  'index': 61,\n",
       "  'shape': array([1, 1], dtype=int32),\n",
       "  'shape_signature': array([-1,  1], dtype=int32),\n",
       "  'dtype': numpy.float32,\n",
       "  'quantization': (0.0, 0),\n",
       "  'quantization_parameters': {'scales': array([], dtype=float32),\n",
       "   'zero_points': array([], dtype=int32),\n",
       "   'quantized_dimension': 0},\n",
       "  'sparsity_parameters': {}}]"
      ]
     },
     "execution_count": 7,
     "metadata": {},
     "output_type": "execute_result"
    }
   ],
   "source": [
    "output_details"
   ]
  },
  {
   "cell_type": "code",
   "execution_count": 8,
   "id": "c926e1ed-438c-4c23-ba7d-f8a0e3faf33f",
   "metadata": {
    "editable": true,
    "slideshow": {
     "slide_type": ""
    },
    "tags": []
   },
   "outputs": [],
   "source": [
    "# This function should be provided to shap.KernelExplainer:\n",
    "# https://shap.readthedocs.io/en/latest/generated/shap.KernelExplainer.html \n",
    "# User supplied function that takes a matrix of samples (# samples x # features) and computes the output of the model for those samples. \n",
    "# The output can be a vector (# samples) or a matrix (# samples x # model outputs).\n",
    "def tflite_predict(input_data):\n",
    "    outputs = []\n",
    "    for row in input_data:\n",
    "        for input_detail in input_details:\n",
    "            name = input_detail['name']\n",
    "            v = name[name.find('input_feats')+12:-2]\n",
    "            idx = v.split('-')\n",
    "            if len(idx) == 1:\n",
    "                data = row[int(idx[0]):int(idx[0])+1]\n",
    "            elif len(idx) == 2:\n",
    "                data = row[int(idx[0]):int(idx[1])+1]\n",
    "\n",
    "            input_shape = input_detail['shape']\n",
    "            input_type = input_detail['dtype']\n",
    "            input_shaped_data = np.array(data).reshape(input_shape).astype(input_type)\n",
    "            interpreter.set_tensor(input_detail['index'], input_shaped_data)\n",
    "        \n",
    "        interpreter.invoke()\n",
    "        output_data = interpreter.get_tensor(output_details[0]['index'])\n",
    "        outputs.append(output_data.flatten())\n",
    "\n",
    "    return np.array(outputs)  # Flatten the output for Shap  "
   ]
  },
  {
   "cell_type": "code",
   "execution_count": 9,
   "id": "93b40d73-06e0-4956-8e6b-22cacad56ed3",
   "metadata": {
    "editable": true,
    "slideshow": {
     "slide_type": ""
    },
    "tags": []
   },
   "outputs": [
    {
     "data": {
      "text/plain": [
       "array([[0.16258578],\n",
       "       [0.74186057],\n",
       "       [0.8503953 ],\n",
       "       [0.91843873],\n",
       "       [0.40652493],\n",
       "       [0.8985175 ],\n",
       "       [0.72206444],\n",
       "       [0.3371445 ],\n",
       "       [0.9005372 ],\n",
       "       [0.8962692 ],\n",
       "       [0.3590634 ],\n",
       "       [0.6111052 ],\n",
       "       [0.5051973 ],\n",
       "       [0.3384354 ],\n",
       "       [0.26840815],\n",
       "       [0.4605284 ],\n",
       "       [0.7065915 ],\n",
       "       [0.7817771 ],\n",
       "       [0.6610525 ],\n",
       "       [0.11222844],\n",
       "       [0.9468249 ],\n",
       "       [0.99277097],\n",
       "       [0.55140316],\n",
       "       [0.4882183 ],\n",
       "       [0.5953901 ],\n",
       "       [0.85564446],\n",
       "       [0.8211093 ],\n",
       "       [0.63375354],\n",
       "       [0.7673809 ],\n",
       "       [0.79039425],\n",
       "       [0.30830416],\n",
       "       [0.6440413 ],\n",
       "       [0.2331508 ],\n",
       "       [0.38836384],\n",
       "       [0.23489113],\n",
       "       [0.64111894],\n",
       "       [0.76323146],\n",
       "       [0.83276814],\n",
       "       [0.18776023],\n",
       "       [0.5441523 ],\n",
       "       [0.92606306],\n",
       "       [0.12045917],\n",
       "       [0.2380878 ],\n",
       "       [0.7921318 ],\n",
       "       [0.8288827 ],\n",
       "       [0.7837022 ],\n",
       "       [0.5623387 ],\n",
       "       [0.9664522 ],\n",
       "       [0.19892621],\n",
       "       [0.43424872],\n",
       "       [0.3386775 ],\n",
       "       [0.68972766],\n",
       "       [0.9680345 ],\n",
       "       [0.5298078 ],\n",
       "       [0.92986244],\n",
       "       [0.94714427],\n",
       "       [0.884701  ],\n",
       "       [0.94693536],\n",
       "       [0.937168  ],\n",
       "       [0.5395234 ],\n",
       "       [0.39345673],\n",
       "       [0.97450113],\n",
       "       [0.19765429],\n",
       "       [0.4141062 ],\n",
       "       [0.85218626],\n",
       "       [0.8983158 ],\n",
       "       [0.9290797 ]], dtype=float32)"
      ]
     },
     "execution_count": 9,
     "metadata": {},
     "output_type": "execute_result"
    }
   ],
   "source": [
    "tflite_predict(all_feat_values)"
   ]
  },
  {
   "cell_type": "code",
   "execution_count": 10,
   "id": "679c2a50-220e-4dda-8061-e72820c8d394",
   "metadata": {},
   "outputs": [],
   "source": [
    "explainer = shap.KernelExplainer(tflite_predict, all_feat_values)"
   ]
  },
  {
   "cell_type": "code",
   "execution_count": 49,
   "id": "9023a688-4819-4738-aa21-40d13c1621b1",
   "metadata": {},
   "outputs": [
    {
     "data": {
      "text/plain": [
       "array([[ 0.24187141],\n",
       "       [-0.00653361],\n",
       "       [-0.0120395 ],\n",
       "       [ 0.02443855],\n",
       "       [-0.00868925],\n",
       "       [-0.01131197]])"
      ]
     },
     "execution_count": 49,
     "metadata": {},
     "output_type": "execute_result"
    }
   ],
   "source": [
    "# Pick an instance to calculate the shap plot\n",
    "idx = 25\n",
    "\n",
    "instance = all_feat_values[idx]\n",
    "shap_values = explainer.shap_values(instance)\n",
    "shap_values[1:]"
   ]
  },
  {
   "cell_type": "code",
   "execution_count": 50,
   "id": "7137b22c-04ea-42a9-b87c-07ca320c6ab9",
   "metadata": {},
   "outputs": [],
   "source": [
    "instance[0] = 16\n",
    "\n",
    "instance[3] = 1\n",
    "instance[4] = 0\n",
    "instance[5] = 1\n",
    "instance[6] = 0\n",
    "\n",
    "shap_values = explainer.shap_values(instance)"
   ]
  },
  {
   "cell_type": "code",
   "execution_count": 51,
   "id": "48dcdb8d-870e-4611-a514-6f5aa1be3b9d",
   "metadata": {},
   "outputs": [
    {
     "data": {
      "text/plain": [
       ".values =\n",
       "array([ 0.22667478, -0.00427789,  0.03261825, -0.01313636,  0.04085051,\n",
       "       -0.01054864])\n",
       "\n",
       ".base_values =\n",
       "0.6280831687930805\n",
       "\n",
       ".data =\n",
       "array([16. ,  1. , 21.7,  1. ,  0. ,  1. ,  0. ])"
      ]
     },
     "execution_count": 51,
     "metadata": {},
     "output_type": "execute_result"
    }
   ],
   "source": [
    "feature_names = complete_data.columns[1:].tolist()  # Get feature names from DataFrame\n",
    "explanation = shap.Explanation(\n",
    "    values=shap_values[1:].reshape(1, 6)[0], # Need to reshape to it matches the instance dimensions\n",
    "    base_values=explainer.expected_value[0], # correct base_values for single output models\n",
    "    feature_names=feature_names,\n",
    "    data=np.array(instance)  # Convert instance to NumPy array\n",
    ")\n",
    "explanation"
   ]
  },
  {
   "cell_type": "code",
   "execution_count": 52,
   "id": "ebd051f2-5c29-4c04-a15d-3c1c7d4490e6",
   "metadata": {},
   "outputs": [
    {
     "data": {
      "image/png": "[encoded data removed]",
      "text/plain": [
       "<Figure size 800x450 with 3 Axes>"
      ]
     },
     "metadata": {},
     "output_type": "display_data"
    }
   ],
   "source": [
    "shap.plots.waterfall(explanation)"
   ]
  },
  {
   "cell_type": "code",
   "execution_count": null,
   "id": "c971b200-10c8-4587-87bd-b52bbdaf2614",
   "metadata": {},
   "outputs": [],
   "source": []
  }
 ],
 "metadata": {
  "kernelspec": {
   "display_name": "Python 3 (ipykernel)",
   "language": "python",
   "name": "python3"
  },
  "language_info": {
   "codemirror_mode": {
    "name": "ipython",
    "version": 3
   },
   "file_extension": ".py",
   "mimetype": "text/x-python",
   "name": "python",
   "nbconvert_exporter": "python",
   "pygments_lexer": "ipython3",
   "version": "3.12.9"
  }
 },
 "nbformat": 4,
 "nbformat_minor": 5
}
